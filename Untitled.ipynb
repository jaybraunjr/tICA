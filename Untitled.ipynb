{
 "cells": [
  {
   "cell_type": "code",
   "execution_count": 6,
   "id": "28fe023c-4589-4e6e-b06e-2fe70b43d75b",
   "metadata": {},
   "outputs": [],
   "source": [
    "import mdakit.tica as TICA\n",
    "import MDAnalysis as mda"
   ]
  },
  {
   "cell_type": "code",
   "execution_count": 4,
   "id": "12c7fb48-2720-40ca-b2e0-f17b3ea3ac50",
   "metadata": {},
   "outputs": [],
   "source": [
    "u = mda.Universe(\"../../mlx.gro\", \"../../rep1_skip10.xtc\")"
   ]
  },
  {
   "cell_type": "code",
   "execution_count": 8,
   "id": "3f0d067a-8575-40c4-9827-a9ef78999a6e",
   "metadata": {},
   "outputs": [],
   "source": [
    "tica = TICA.TICA(\n",
    "    u,\n",
    "    select=\"name CA\",\n",
    "    lag=50,\n",
    "    n_components=5,\n",
    "    regularization=1e-5,\n",
    ").run(step=1)\n",
    "\n"
   ]
  },
  {
   "cell_type": "code",
   "execution_count": null,
   "id": "67f42add-b39a-4e1c-9e35-846d42314445",
   "metadata": {},
   "outputs": [],
   "source": []
  }
 ],
 "metadata": {
  "kernelspec": {
   "display_name": "Python 3 (ipykernel)",
   "language": "python",
   "name": "python3"
  },
  "language_info": {
   "codemirror_mode": {
    "name": "ipython",
    "version": 3
   },
   "file_extension": ".py",
   "mimetype": "text/x-python",
   "name": "python",
   "nbconvert_exporter": "python",
   "pygments_lexer": "ipython3",
   "version": "3.9.18"
  }
 },
 "nbformat": 4,
 "nbformat_minor": 5
}
